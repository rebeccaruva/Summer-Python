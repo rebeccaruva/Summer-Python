{
 "cells": [
  {
   "cell_type": "markdown",
   "metadata": {},
   "source": [
    "## Live Code: Python Sets\n",
    "\n",
    "In this example we'll play around with call results from the [New York Times Books API](https://developer.nytimes.com/docs/books-product/1/overview) to demonstrate the use of __set operations__ (stay tuned for week 6, to learn more about APIs). \n",
    "\n",
    "With the Book API we can access data from the NY Times Bestseller List\n",
    "The Books API has service, that returns best sellers for a specified date and list-name.\n",
    "The request requires two parameters: {publishing date} and {list}\n",
    "\n",
    "We'll look at following categories: \n",
    "* Hardcover Fiction\n",
    "* Hardcover Nonfiction\n",
    "* Paperback Trade Fiction\n",
    "* Paperback Nonfiction\n",
    "\n",
    "These are updated weekly, we’ll look at lists of the current and previous week for comparison.\n",
    "\n",
    "In the first part of this code we'll create sets of titles for each category and week, in the second section we'll make use of set operations to get insights about the bestsellers. \n",
    "\n",
    "Things that we cand find out:\n",
    "- which books have stayed in the top 15 compared to the previous week? \n",
    "- which titles are newcomers?\n",
    "- ...\n",
    "\n",
    "### Generating Sets"
   ]
  },
  {
   "cell_type": "code",
   "execution_count": 1,
   "metadata": {},
   "outputs": [],
   "source": [
    "# import requests and json libraries\n",
    "import requests\n",
    "import json\n",
    "\n",
    "# this function will make requests to the Books API\n",
    "# and generate sets of bestsellers for different lists\n",
    "# by passing 'date' as an argument, we can later call this function \n",
    "# several times for the lists of the current and the previous weeks\n",
    "def generateSets(date):\n",
    "    \n",
    "    # if you want to play around with the API, please make your own key at https://developer.nytimes.com/\n",
    "    authorized_key = \"QftZeSssSfBqTSFet3RBaTE9inc3iWAw\"\n",
    "    # create list of the categories we want to access:\n",
    "    categories = ['hardcover-fiction', 'hardcover-nonfiction', 'paperback-nonfiction', 'trade-fiction-paperback']\n",
    "    \n",
    "    \"\"\" This is an excerpt of the data structure the API will return:      \n",
    "{(...)\n",
    " (...)\n",
    " 'results': {(...)\n",
    "     (...)\n",
    "     'books': [{(...)\n",
    "         (...)\n",
    "         'title': 'LITTLE FIRES EVERYWHERE',\n",
    "         'contributor': 'by Celeste Ng',\n",
    "    \n",
    "    \"\"\"\n",
    "    \n",
    "    # our goal is to create a set for each of the above categories, \n",
    "    # containing the title of the top 15 books\n",
    "    \n",
    "    # step 1: \n",
    "    # declare a global variable\n",
    "    global bestseller_titles \n",
    "    \n",
    "    # create an empty, nested list (one list for each category)\n",
    "    bestseller_titles = [[],[],[],[]] # they will hold information from the 'title' key \n",
    "    \n",
    "    # step 2: \n",
    "    # populate those lists in a nested while loop:\n",
    "                \n",
    "    \"\"\" PSEUDO CODE: \n",
    "    \n",
    "# iterate through list in 'bestseller_titles': \n",
    "n = 0\n",
    "while n < number of lists in 'bestseller_titles'(4)\n",
    "    call the api_url, and pass category[n]\n",
    "    get the response, and store as json \n",
    "    \n",
    "    # access the 'books' key, define 'path' in json structure\n",
    "    books = data['results']['books']\n",
    "    # iterate through titles in 'books':\n",
    "    j = 0\n",
    "    while j < number of books in 'books':\n",
    "        add books[j]['title'] to bestseller_titles[n]\n",
    "        j += 1\n",
    "        \n",
    "    n += 1 \n",
    "    \n",
    "    \"\"\"\n",
    "\n",
    "    n = 0 # create variable 'n' to count\n",
    "    while n < len(bestseller_titles): # for each empty list 'bestseller_titles'\n",
    "        # call the API-url\n",
    "        # use string formatters to parse in the date ('current'), category (with index 'n'), and the API-key\n",
    "        api_url = \"https://api.nytimes.com/svc/books/v3/lists/{}/{}.json?api-key={}\".format(date, categories[n], authorized_key)\n",
    "\n",
    "        # call the API with requests\n",
    "        response = requests.get(api_url)\n",
    "        # create a variable called 'data' to hold the json formatted result\n",
    "        data = response.json()\n",
    "\n",
    "        # define the 'path' inside the json structure\n",
    "        books = data['results']['books']\n",
    "        \n",
    "        # then iterate through 'titles' in 'books':\n",
    "        j = 0 # create variable 'j' to count\n",
    "        # while 'j' is smaller than the number of books\n",
    "        while j < len(books):\n",
    "            # add the title to the 'nth' list in 'bestseller_titles'\n",
    "            bestseller_titles[n].append(books[j]['title'])\n",
    "            j += 1 # count +1\n",
    "\n",
    "        n += 1 # count +1\n",
    "    \n",
    "    # step 3:\n",
    "    # print the populated lists as a sanity check\n",
    "    print(bestseller_titles)"
   ]
  },
  {
   "cell_type": "code",
   "execution_count": 2,
   "metadata": {},
   "outputs": [
    {
     "name": "stdout",
     "output_type": "stream",
     "text": [
      "[['WHERE THE CRAWDADS SING', 'CAMINO WINDS', 'THE VANISHING HALF', 'THE SUMMER HOUSE', \"DADDY'S GIRLS\", 'FAIR WARNING', 'IF IT BLEEDS', 'TOM CLANCY: FIRING POINT', 'HIDEAWAY', 'THE GUEST LIST', 'WALK THE WIRE', 'BIG SUMMER', 'AMERICAN DIRT', 'THE LIES THAT BIND', 'THE DAUGHTERS OF ERIETOWN'], ['HOW TO BE AN ANTIRACIST', 'COUNTDOWN 1945', 'UNTAMED', 'BETWEEN THE WORLD AND ME', 'BECOMING', 'THE SPLENDID AND THE VILE', 'OUR TIME IS NOW', 'EDUCATED', 'UNITED STATES OF SOCIALISM', 'ME AND WHITE SUPREMACY', 'THE MAMBA MENTALITY', \"I'M STILL HERE\", 'THE DEFICIT MYTH', 'MY VANISHING COUNTRY', 'FORTITUDE'], ['SO YOU WANT TO TALK ABOUT RACE', 'WHITE FRAGILITY', 'STAMPED FROM THE BEGINNING', 'WHY ARE ALL THE BLACK KIDS SITTING TOGETHER IN THE CAFETERIA?', 'JUST MERCY', 'THE COLOR OF LAW', 'THE NEW JIM CROW', 'WHITE RAGE', 'BORN A CRIME', 'RAISING WHITE KIDS', 'THE BODY KEEPS THE SCORE', 'WAKING UP WHITE', 'THE COLOR OF COMPROMISE', \"WHY I'M NO LONGER TALKING TO WHITE PEOPLE ABOUT RACE\", 'THE GREAT INFLUENZA'], ['LITTLE FIRES EVERYWHERE', 'THEN SHE WAS GONE', 'NORMAL PEOPLE', 'CIRCE', 'A MINUTE TO MIDNIGHT', 'HUSH', 'THE WOMAN IN THE WINDOW', 'THE TATTOOIST OF AUSCHWITZ', 'BEFORE WE WERE YOURS', 'THE BLUEST EYE', 'THE FAMILY UPSTAIRS', 'A GENTLEMAN IN MOSCOW', \"THE HANDMAID'S TALE\", 'ELEANOR OLIPHANT IS COMPLETELY FINE', 'THE NIGHTINGALE']]\n",
      "4\n"
     ]
    }
   ],
   "source": [
    "# call the generatSets() function \n",
    "# with 'date' = 'current' to recieve this week's bestseller list\n",
    "generateSets('current')\n",
    "print(len(bestseller_titles))"
   ]
  },
  {
   "cell_type": "code",
   "execution_count": 3,
   "metadata": {},
   "outputs": [
    {
     "name": "stdout",
     "output_type": "stream",
     "text": [
      "Hardcover Fiction, June 21:\n",
      " {\"DADDY'S GIRLS\", 'CAMINO WINDS', 'THE VANISHING HALF', 'HIDEAWAY', 'FAIR WARNING', 'TOM CLANCY: FIRING POINT', 'WHERE THE CRAWDADS SING', 'IF IT BLEEDS', 'THE LIES THAT BIND', 'BIG SUMMER', 'AMERICAN DIRT', 'THE SUMMER HOUSE', 'THE GUEST LIST', 'THE DAUGHTERS OF ERIETOWN', 'WALK THE WIRE'}\n",
      "\n",
      "Hardcover Nonfiction, June 21:\n",
      " {'ME AND WHITE SUPREMACY', 'UNITED STATES OF SOCIALISM', 'OUR TIME IS NOW', 'BETWEEN THE WORLD AND ME', 'COUNTDOWN 1945', 'THE SPLENDID AND THE VILE', 'UNTAMED', 'HOW TO BE AN ANTIRACIST', 'THE DEFICIT MYTH', \"I'M STILL HERE\", 'EDUCATED', 'BECOMING', 'MY VANISHING COUNTRY', 'FORTITUDE', 'THE MAMBA MENTALITY'}\n",
      "\n",
      "Paperback Nonfiction, June 21:\n",
      " {'WHY ARE ALL THE BLACK KIDS SITTING TOGETHER IN THE CAFETERIA?', 'THE COLOR OF LAW', 'JUST MERCY', 'THE NEW JIM CROW', 'WAKING UP WHITE', \"WHY I'M NO LONGER TALKING TO WHITE PEOPLE ABOUT RACE\", 'THE GREAT INFLUENZA', 'THE COLOR OF COMPROMISE', 'WHITE RAGE', 'BORN A CRIME', 'STAMPED FROM THE BEGINNING', 'THE BODY KEEPS THE SCORE', 'WHITE FRAGILITY', 'RAISING WHITE KIDS', 'SO YOU WANT TO TALK ABOUT RACE'}\n",
      "\n",
      "Paperback Fiction, June 21:\n",
      " {'THE BLUEST EYE', 'THE WOMAN IN THE WINDOW', 'ELEANOR OLIPHANT IS COMPLETELY FINE', 'THE FAMILY UPSTAIRS', 'THE NIGHTINGALE', 'THE TATTOOIST OF AUSCHWITZ', 'CIRCE', 'BEFORE WE WERE YOURS', 'LITTLE FIRES EVERYWHERE', 'A GENTLEMAN IN MOSCOW', 'THEN SHE WAS GONE', 'A MINUTE TO MIDNIGHT', \"THE HANDMAID'S TALE\", 'NORMAL PEOPLE', 'HUSH'}\n"
     ]
    }
   ],
   "source": [
    "# create a set from each nested list\n",
    "hc_fiction_jun21 = set(bestseller_titles[0]) \n",
    "hc_nonfiction_jun21 = set(bestseller_titles[1])\n",
    "pb_nonfiction_jun21 = set(bestseller_titles[2])\n",
    "pb_fiction_jun21 = set(bestseller_titles[3])\n",
    "\n",
    "print('Hardcover Fiction, June 21:\\n', hc_fiction_jun21)\n",
    "print('\\nHardcover Nonfiction, June 21:\\n', hc_nonfiction_jun21)\n",
    "print('\\nPaperback Nonfiction, June 21:\\n', pb_nonfiction_jun21)\n",
    "print('\\nPaperback Fiction, June 21:\\n', pb_fiction_jun21)"
   ]
  },
  {
   "cell_type": "code",
   "execution_count": 4,
   "metadata": {},
   "outputs": [
    {
     "name": "stdout",
     "output_type": "stream",
     "text": [
      "[['WHERE THE CRAWDADS SING', 'HIDEAWAY', 'FAIR WARNING', 'CAMINO WINDS', 'IF IT BLEEDS', 'BIG SUMMER', 'AMERICAN DIRT', 'WALK THE WIRE', 'ALL ADULTS HERE', 'THE 20TH VICTIM', 'THE SILENT PATIENT', 'THE GIVER OF STARS', 'THE BOOK OF LONGINGS', 'WRATH OF POSEIDON', 'THE LAST TRIAL'], ['UNTAMED', 'PLAGUE OF CORRUPTION', 'BECOMING', 'THE SPLENDID AND THE VILE', 'HOW TO BE AN ANTIRACIST', 'BREATH', 'EDUCATED', 'HOLLYWOOD PARK', 'AMERICAN CRUSADE', 'ME AND WHITE SUPREMACY', 'FORTITUDE', 'THE MAMBA MENTALITY', 'HIDDEN VALLEY ROAD', 'THE CHIFFON TRENCHES', 'MY VANISHING COUNTRY'], ['WHITE FRAGILITY', 'THE GREAT INFLUENZA', 'THE NEW JIM CROW', 'THE BODY KEEPS THE SCORE', 'SO YOU WANT TO TALK ABOUT RACE', 'JUST MERCY', 'A WOMAN OF NO IMPORTANCE', 'UNORTHODOX', 'BORN A CRIME', 'SAPIENS', 'BRAIDING SWEETGRASS', 'GRIT', 'OUTLIERS', 'THE COLOR OF LAW', 'THINKING, FAST AND SLOW'], ['LITTLE FIRES EVERYWHERE', 'NORMAL PEOPLE', 'THEN SHE WAS GONE', 'THE WOMAN IN THE WINDOW', 'THE TATTOOIST OF AUSCHWITZ', 'CIRCE', 'THIS TENDER LAND', 'BEFORE WE WERE YOURS', 'THE NIGHTINGALE', 'BEACH READ', 'CITY OF GIRLS', 'THE OVERSTORY', 'A GENTLEMAN IN MOSCOW', 'THE BOOK WOMAN OF TROUBLESOME CREEK', 'CALL ME BY YOUR NAME']]\n"
     ]
    }
   ],
   "source": [
    "# call the generatSets() function again\n",
    "# with 'date' = '2020-06-14' to recieve last week's bestseller list\n",
    "generateSets('2020-06-14')"
   ]
  },
  {
   "cell_type": "code",
   "execution_count": 5,
   "metadata": {},
   "outputs": [
    {
     "name": "stdout",
     "output_type": "stream",
     "text": [
      "Hardcover Fiction, June 14:\n",
      " {'HIDEAWAY', 'CAMINO WINDS', 'FAIR WARNING', 'ALL ADULTS HERE', 'WRATH OF POSEIDON', 'WHERE THE CRAWDADS SING', 'IF IT BLEEDS', 'THE SILENT PATIENT', 'BIG SUMMER', 'AMERICAN DIRT', 'THE GIVER OF STARS', 'THE BOOK OF LONGINGS', 'THE 20TH VICTIM', 'THE LAST TRIAL', 'WALK THE WIRE'}\n",
      "\n",
      "Hardcover Nonfiction, June 14:\n",
      " {'ME AND WHITE SUPREMACY', 'AMERICAN CRUSADE', 'THE SPLENDID AND THE VILE', 'HOLLYWOOD PARK', 'PLAGUE OF CORRUPTION', 'UNTAMED', 'HOW TO BE AN ANTIRACIST', 'THE CHIFFON TRENCHES', 'BREATH', 'EDUCATED', 'HIDDEN VALLEY ROAD', 'BECOMING', 'MY VANISHING COUNTRY', 'FORTITUDE', 'THE MAMBA MENTALITY'}\n",
      "\n",
      "Paperback Nonfiction, June 14:\n",
      " {'THE COLOR OF LAW', 'JUST MERCY', 'THE NEW JIM CROW', 'BRAIDING SWEETGRASS', 'THE GREAT INFLUENZA', 'GRIT', 'THINKING, FAST AND SLOW', 'OUTLIERS', 'BORN A CRIME', 'THE BODY KEEPS THE SCORE', 'A WOMAN OF NO IMPORTANCE', 'WHITE FRAGILITY', 'UNORTHODOX', 'SAPIENS', 'SO YOU WANT TO TALK ABOUT RACE'}\n",
      "\n",
      "Paperback Fiction, June 14:\n",
      " {'THE OVERSTORY', 'THE WOMAN IN THE WINDOW', 'BEACH READ', 'THE NIGHTINGALE', 'THE TATTOOIST OF AUSCHWITZ', 'CALL ME BY YOUR NAME', 'CIRCE', 'THIS TENDER LAND', 'THE BOOK WOMAN OF TROUBLESOME CREEK', 'BEFORE WE WERE YOURS', 'LITTLE FIRES EVERYWHERE', 'CITY OF GIRLS', 'A GENTLEMAN IN MOSCOW', 'THEN SHE WAS GONE', 'NORMAL PEOPLE'}\n"
     ]
    }
   ],
   "source": [
    "# create a set from each nested list\n",
    "hc_fiction_jun14 = set(bestseller_titles[0]) \n",
    "hc_nonfiction_jun14 = set(bestseller_titles[1]) \n",
    "pb_nonfiction_jun14 = set(bestseller_titles[2]) \n",
    "pb_fiction_jun14 = set(bestseller_titles[3]) \n",
    "\n",
    "print('Hardcover Fiction, June 14:\\n', hc_fiction_jun14)\n",
    "print('\\nHardcover Nonfiction, June 14:\\n', hc_nonfiction_jun14)\n",
    "print('\\nPaperback Nonfiction, June 14:\\n', pb_nonfiction_jun14)\n",
    "print('\\nPaperback Fiction, June 14:\\n', pb_fiction_jun14)"
   ]
  },
  {
   "cell_type": "markdown",
   "metadata": {},
   "source": [
    "## Set Operations\n",
    "\n",
    "Now that we have declared multiple sets of books, let's make use of set operations to get insights about the bestsellers."
   ]
  },
  {
   "cell_type": "code",
   "execution_count": 6,
   "metadata": {},
   "outputs": [
    {
     "name": "stdout",
     "output_type": "stream",
     "text": [
      "{'THE COLOR OF LAW', 'JUST MERCY', 'THE NEW JIM CROW', 'THE GREAT INFLUENZA', 'BORN A CRIME', 'THE BODY KEEPS THE SCORE', 'WHITE FRAGILITY', 'SO YOU WANT TO TALK ABOUT RACE'}\n"
     ]
    }
   ],
   "source": [
    "# create an intersection function\n",
    "\n",
    "def intersection(A, B):\n",
    "    inter = A & B\n",
    "    print(inter)\n",
    "\n",
    "intersection(pb_nonfiction_jun21, pb_nonfiction_jun14)"
   ]
  },
  {
   "cell_type": "code",
   "execution_count": 7,
   "metadata": {},
   "outputs": [
    {
     "name": "stdout",
     "output_type": "stream",
     "text": [
      "{'WHY ARE ALL THE BLACK KIDS SITTING TOGETHER IN THE CAFETERIA?', 'WAKING UP WHITE', \"WHY I'M NO LONGER TALKING TO WHITE PEOPLE ABOUT RACE\", 'THE COLOR OF COMPROMISE', 'WHITE RAGE', 'STAMPED FROM THE BEGINNING', 'RAISING WHITE KIDS'}\n"
     ]
    }
   ],
   "source": [
    "# create a difference function\n",
    "\n",
    "def difference(A, B):\n",
    "    diff = A - B\n",
    "    print(diff)\n",
    "   \n",
    "difference(pb_nonfiction_jun21, pb_nonfiction_jun14)"
   ]
  },
  {
   "cell_type": "code",
   "execution_count": 8,
   "metadata": {},
   "outputs": [
    {
     "name": "stdout",
     "output_type": "stream",
     "text": [
      "{'WHY ARE ALL THE BLACK KIDS SITTING TOGETHER IN THE CAFETERIA?', 'THE COLOR OF LAW', 'THE GREAT INFLUENZA', 'WHITE RAGE', 'A WOMAN OF NO IMPORTANCE', 'WHITE FRAGILITY', 'RAISING WHITE KIDS', 'SAPIENS', 'JUST MERCY', 'THE NEW JIM CROW', 'WAKING UP WHITE', 'BRAIDING SWEETGRASS', \"WHY I'M NO LONGER TALKING TO WHITE PEOPLE ABOUT RACE\", 'GRIT', 'THINKING, FAST AND SLOW', 'THE COLOR OF COMPROMISE', 'OUTLIERS', 'BORN A CRIME', 'STAMPED FROM THE BEGINNING', 'THE BODY KEEPS THE SCORE', 'UNORTHODOX', 'SO YOU WANT TO TALK ABOUT RACE'}\n"
     ]
    }
   ],
   "source": [
    "# create a union function \n",
    "\n",
    "def union(A, B):\n",
    "    union = A.union(B)\n",
    "    print(union)\n",
    "    \n",
    "union(pb_nonfiction_jun21, pb_nonfiction_jun14)"
   ]
  },
  {
   "cell_type": "code",
   "execution_count": 9,
   "metadata": {},
   "outputs": [
    {
     "name": "stdout",
     "output_type": "stream",
     "text": [
      "{'ALL ADULTS HERE', 'WRATH OF POSEIDON', 'TOM CLANCY: FIRING POINT', 'CALL ME BY YOUR NAME', 'THE LIES THAT BIND', 'BIG SUMMER', 'THE GIVER OF STARS', 'THE 20TH VICTIM', 'THE GUEST LIST', 'THIS TENDER LAND', 'NORMAL PEOPLE', \"DADDY'S GIRLS\", 'HIDEAWAY', 'THE OVERSTORY', 'THE WOMAN IN THE WINDOW', 'ELEANOR OLIPHANT IS COMPLETELY FINE', 'FAIR WARNING', 'WHERE THE CRAWDADS SING', 'THE BOOK OF LONGINGS', 'THE BOOK WOMAN OF TROUBLESOME CREEK', 'A MINUTE TO MIDNIGHT', 'THE DAUGHTERS OF ERIETOWN', 'HUSH', 'BEACH READ', 'THE FAMILY UPSTAIRS', 'THE TATTOOIST OF AUSCHWITZ', 'THE SILENT PATIENT', 'CIRCE', 'AMERICAN DIRT', 'THE LAST TRIAL', 'LITTLE FIRES EVERYWHERE', 'CITY OF GIRLS', 'THEN SHE WAS GONE', 'CAMINO WINDS', 'THE VANISHING HALF', 'THE BLUEST EYE', 'THE NIGHTINGALE', 'IF IT BLEEDS', 'BEFORE WE WERE YOURS', 'THE SUMMER HOUSE', 'A GENTLEMAN IN MOSCOW', \"THE HANDMAID'S TALE\", 'WALK THE WIRE'}\n"
     ]
    }
   ],
   "source": [
    "# perform an operation on more than two sets\n",
    "\n",
    "all_fiction = pb_fiction_jun14 | pb_fiction_jun21 | hc_fiction_jun21 | hc_fiction_jun14\n",
    "print(all_fiction)"
   ]
  }
 ],
 "metadata": {
  "kernelspec": {
   "display_name": "Python 3",
   "language": "python",
   "name": "python3"
  },
  "language_info": {
   "codemirror_mode": {
    "name": "ipython",
    "version": 3
   },
   "file_extension": ".py",
   "mimetype": "text/x-python",
   "name": "python",
   "nbconvert_exporter": "python",
   "pygments_lexer": "ipython3",
   "version": "3.7.4"
  }
 },
 "nbformat": 4,
 "nbformat_minor": 4
}
