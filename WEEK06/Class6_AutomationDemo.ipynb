{
 "cells": [
  {
   "cell_type": "raw",
   "metadata": {},
   "source": [
    "./\n",
    "\n",
    "\\ Windows\n",
    "/ OSX\n",
    "\n",
    "Navigating these OS spaces is all about using paths!\n",
    "C:\\Users\\jason\\OneDrive\\Documents\\Python Scripts\\python\\Week_06\\Automation Example.ipnyb\n",
    "\n",
    "Short (and incomplete cheat sheet)\n",
    ". = don't move\n",
    ".. = go up one folder\n",
    "/ = go to root (the base folder of the entire disc drive)\n",
    "\"./\" = stay in current path"
   ]
  },
  {
   "cell_type": "markdown",
   "metadata": {},
   "source": [
    "## Creating the 100 files"
   ]
  },
  {
   "cell_type": "code",
   "execution_count": null,
   "metadata": {},
   "outputs": [],
   "source": [
    "import os\n",
    "import time\n",
    "\n",
    "path = \"./Pages\"\n",
    "\n",
    "#This creates the pages that we want to work with.\n",
    "#it assumes a Pages folder exists within the same context as the notebook\n",
    "for i in range(100):#100 files get created\n",
    "    page = i + 1\n",
    "    # ./Pages/page.txt\n",
    "    #open() creates the file, write() creates the writing\n",
    "    #close() saves and leaves the file\n",
    "    f = open(\"./Pages/\" + str(page) + \".txt\", \"w+\")\n",
    "    f.write(\"This is page %s.\" % (page)  )\n",
    "    f.write(\"\\r\\rThis is where your amazing writing will go.\\r\\r\"  )\n",
    "    f.write(\"This is the end of page %s.\" % (page)  )\n",
    "    f.close()\n",
    "    #this pauses execution for a specified time so you can watch it happen\n",
    "    print(str(page) +'.txt has been created')\n",
    "    time.sleep(0.25)"
   ]
  },
  {
   "cell_type": "markdown",
   "metadata": {},
   "source": [
    "## Creating the folders"
   ]
  },
  {
   "cell_type": "code",
   "execution_count": null,
   "metadata": {},
   "outputs": [],
   "source": [
    "import os\n",
    "import time\n",
    "path = \".\"\n",
    "\n",
    "#When I use '.' it just copies the existing path to the file, in this case:\n",
    "#C:\\Users\\jason\\OneDrive\\Documents\\Python Scripts\\python\\Week_06\\\n",
    "\n",
    "path = \".\" #this is the same as .\n",
    "path = \"/.\" #This is the root.\n",
    "\n",
    "path = \"./Pages/\"\n",
    "textfiles = os.listdir(path)\n",
    "#uncomment the following line to see\n",
    "#print(textfiles) \n",
    "\n",
    "#This creates folders for 0 to 100 in increments of ten\n",
    "for i in range(0,11):\n",
    "    #i goes from 1 to 10 and we multply it by ten to make a consistent jump\n",
    "    #we then use that value to create the directory we want to have\n",
    "    directory = path+str(i*10) # ./Pages/10\n",
    "    #Check if the path exists\n",
    "    if not os.path.exists(directory):\n",
    "        #if not, then make the folder\n",
    "        os.makedirs(directory)\n",
    "    #report completion\n",
    "    print(directory + \" has been created!\")\n",
    "    time.sleep(.3)\n"
   ]
  },
  {
   "cell_type": "markdown",
   "metadata": {},
   "source": [
    "## Moving the files into the folders"
   ]
  },
  {
   "cell_type": "code",
   "execution_count": null,
   "metadata": {
    "scrolled": true
   },
   "outputs": [],
   "source": [
    "import os\n",
    "import time\n",
    "\n",
    "#This is a method to take a path and split it into name and extension\n",
    "def GetFilenameData(fullName):\n",
    "    #split separates our file name into something specific\n",
    "    fullnameSplit = fullName.split('.')\n",
    "    #this split is actually naive and is broken with names that have two or\n",
    "    #more . marks in them\n",
    "    fileName = {\n",
    "        'name': fullnameSplit[0],\n",
    "        #this if statement is a Ternary operation that returns none if the\n",
    "        #extension doesn't exist\n",
    "        'extension': fullnameSplit[1] if (len(fullnameSplit) > 1) else None\n",
    "    }\n",
    "    return fileName\n",
    "\n",
    "\n",
    "#Get all the paths within the folder\n",
    "path = \"./Pages/\"\n",
    "textfiles = os.listdir(path)\n",
    "\n",
    "\n",
    "#Check for all files within a certain range and move it into\n",
    "#an appropriate folder\n",
    "for file in textfiles:\n",
    "    filenameData = GetFilenameData(file)\n",
    "    #Make sure we aren't working with a folder\n",
    "    if filenameData['extension'] is not None:\n",
    "        #this 0,11 range is the same range we used to create the folders\n",
    "        for i in range(0,11):\n",
    "            if int(filenameData['name']) in range(i*10,(i+1)*10):\n",
    "                os.rename(path+file, path + str(i*10) +\"/\" + file)\n",
    "                #./stuff/Pages/filename.extension\n",
    "                #./stuff/Pages/GroupedPages/filename.extension\n",
    "                print(\"%s.%s has moved to /%s\" % (filenameData['name'],filenameData['extension'],i*10))\n",
    "    time.sleep(.3)\n",
    "    \n",
    "''' This is the basic functionality of the for loop above\n",
    "for file in textfiles:\n",
    "    filenameData = GetFilenameData(file)\n",
    "    if filenameData['extension'] in not None:\n",
    "        if int(filenameData['name']) in range(0,10):\n",
    "            #path + file is the current file path\n",
    "            #path + \"0/\" + file is the new path we created\n",
    "            os.rename(path+file, path + \"0/\" + file\n",
    "'''"
   ]
  },
  {
   "cell_type": "markdown",
   "metadata": {},
   "source": [
    "### Make a computer experience the merciless march of time"
   ]
  },
  {
   "cell_type": "code",
   "execution_count": null,
   "metadata": {},
   "outputs": [],
   "source": [
    "import time\n",
    "from IPython.display import clear_output\n",
    "\n",
    "#print( time.localtime(time.time()).tm_sec )\n",
    "\n",
    "previousTime = time.localtime(time.time()).tm_sec\n",
    "secondsPassed = 0 \n",
    "while(True):\n",
    "    if previousTime != time.localtime(time.time()).tm_sec:\n",
    "        clear_output()\n",
    "        secondsPassed = secondsPassed + 1\n",
    "        print(\"I have suffered existence for %s second(s).\" % secondsPassed)\n",
    "        previousTime = time.localtime(time.time()).tm_sec"
   ]
  },
  {
   "cell_type": "code",
   "execution_count": null,
   "metadata": {},
   "outputs": [],
   "source": []
  }
 ],
 "metadata": {
  "kernelspec": {
   "display_name": "Python 3",
   "language": "python",
   "name": "python3"
  },
  "language_info": {
   "codemirror_mode": {
    "name": "ipython",
    "version": 3
   },
   "file_extension": ".py",
   "mimetype": "text/x-python",
   "name": "python",
   "nbconvert_exporter": "python",
   "pygments_lexer": "ipython3",
   "version": "3.7.4"
  }
 },
 "nbformat": 4,
 "nbformat_minor": 2
}
