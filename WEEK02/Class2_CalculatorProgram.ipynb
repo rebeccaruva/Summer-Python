{
 "cells": [
  {
   "cell_type": "markdown",
   "metadata": {},
   "source": [
    "## Basic Calculator Program"
   ]
  },
  {
   "cell_type": "code",
   "execution_count": 6,
   "metadata": {},
   "outputs": [
    {
     "name": "stdin",
     "output_type": "stream",
     "text": [
      "Please type in the operator you would like to use:\n",
      "                      + for addition\n",
      "                      - for subtraction\n",
      "                      * for multiplication\n",
      "                      / for division\n",
      "                       /\n",
      "Enter first number here:  10\n",
      "Enter second number here:  100\n"
     ]
    },
    {
     "name": "stdout",
     "output_type": "stream",
     "text": [
      "10 / 100 =\n",
      "0.1\n"
     ]
    },
    {
     "name": "stdin",
     "output_type": "stream",
     "text": [
      "Do you want to calculate again?\n",
      "    Press y for YES and n for NO. j\n",
      "Do you want to calculate again?\n",
      "    Press y for YES and n for NO. y\n",
      "Please type in the operator you would like to use:\n",
      "                      + for addition\n",
      "                      - for subtraction\n",
      "                      * for multiplication\n",
      "                      / for division\n",
      "                       d\n",
      "Enter first number here:  10\n",
      "Enter second number here:  10\n"
     ]
    },
    {
     "name": "stdout",
     "output_type": "stream",
     "text": [
      "You have not entered a valid operator.\n"
     ]
    },
    {
     "name": "stdin",
     "output_type": "stream",
     "text": [
      "Do you want to calculate again?\n",
      "    Press y for YES and n for NO. n\n"
     ]
    },
    {
     "name": "stdout",
     "output_type": "stream",
     "text": [
      "Goodbye\n"
     ]
    }
   ],
   "source": [
    "calculation()\n",
    "\n",
    "def calculation():\n",
    "    operation = input('''Please type in the operator you would like to use:\n",
    "                      + for addition\n",
    "                      - for subtraction\n",
    "                      * for multiplication\n",
    "                      / for division\n",
    "                      ''')\n",
    "\n",
    "    #wrap input in int to only accept whole numbers\n",
    "    number_1 = int(input(\"Enter first number here: \"))\n",
    "    number_2 = int(input(\"Enter second number here: \"))\n",
    "\n",
    "    #addition\n",
    "    if operation == '+':\n",
    "        print(number_1, '+', number_2, '=')\n",
    "        print(number_1 + number_2)\n",
    "\n",
    "    #subtraction\n",
    "    elif operation == '-':\n",
    "        print(number_1, '-', number_2, '=')\n",
    "        print(number_1 - number_2)\n",
    "\n",
    "    #multiplication\n",
    "    elif operation == '*':\n",
    "        print(number_1, '*', number_2, '=')\n",
    "        print(number_1 * number_2)\n",
    "\n",
    "    #division\n",
    "    elif operation == '/':\n",
    "        print(number_1, '/', number_2, '=')\n",
    "        print(number_1 / number_2)\n",
    "\n",
    "    else:\n",
    "        print(\"You have not entered a valid operator.\")\n",
    "        \n",
    "    again()\n",
    "\n",
    "def again():\n",
    "    calc_again = input('''Do you want to calculate again?\n",
    "    Press y for YES and n for NO.''')\n",
    "    \n",
    "    if calc_again == 'y':\n",
    "        calculation()\n",
    "    elif calc_again == 'n':\n",
    "        print(\"Goodbye\")\n",
    "    else:\n",
    "        again()"
   ]
  },
  {
   "cell_type": "code",
   "execution_count": null,
   "metadata": {},
   "outputs": [],
   "source": []
  }
 ],
 "metadata": {
  "kernelspec": {
   "display_name": "Python 3",
   "language": "python",
   "name": "python3"
  },
  "language_info": {
   "codemirror_mode": {
    "name": "ipython",
    "version": 3
   },
   "file_extension": ".py",
   "mimetype": "text/x-python",
   "name": "python",
   "nbconvert_exporter": "python",
   "pygments_lexer": "ipython3",
   "version": "3.7.6"
  }
 },
 "nbformat": 4,
 "nbformat_minor": 4
}
