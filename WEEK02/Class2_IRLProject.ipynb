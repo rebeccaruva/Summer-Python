{
 "cells": [
  {
   "cell_type": "markdown",
   "metadata": {},
   "source": [
    "## Example Code for Anna's Floral Cosmonauts Project"
   ]
  },
  {
   "cell_type": "code",
   "execution_count": 1,
   "metadata": {},
   "outputs": [],
   "source": [
    "data = \"D, 173.40, 222255.422000, 225888.016000, 2795.878000, -3.377000, 25.589000\""
   ]
  },
  {
   "cell_type": "code",
   "execution_count": 2,
   "metadata": {},
   "outputs": [
    {
     "name": "stdout",
     "output_type": "stream",
     "text": [
      "D, 173.40, 222255.422000, 225888.016000, 2795.878000, -3.377000, 25.589000\n"
     ]
    }
   ],
   "source": [
    "print(data)"
   ]
  },
  {
   "cell_type": "code",
   "execution_count": 3,
   "metadata": {},
   "outputs": [
    {
     "name": "stdout",
     "output_type": "stream",
     "text": [
      "['D', ' 173.40', ' 222255.422000', ' 225888.016000', ' 2795.878000', ' -3.377000', ' 25.589000']\n"
     ]
    }
   ],
   "source": [
    "data_split = data.split(\",\")\n",
    "\n",
    "print(data_split)"
   ]
  },
  {
   "cell_type": "code",
   "execution_count": 6,
   "metadata": {},
   "outputs": [
    {
     "name": "stdout",
     "output_type": "stream",
     "text": [
      "D\n"
     ]
    }
   ],
   "source": [
    "space_event = data_split[0]\n",
    "\n",
    "print(space_event)"
   ]
  },
  {
   "cell_type": "code",
   "execution_count": 7,
   "metadata": {},
   "outputs": [
    {
     "name": "stdout",
     "output_type": "stream",
     "text": [
      "Turn on CAMERA\n"
     ]
    }
   ],
   "source": [
    "if space_event == \"D\":\n",
    "    print(\"Turn on CAMERA\")\n",
    "elif space_event == \"E\":\n",
    "    print(\"Turn on LIGHTS\")\n",
    "elif space_event == \"F\":\n",
    "    print(\"Begin EXPERIMENT\")"
   ]
  },
  {
   "cell_type": "code",
   "execution_count": null,
   "metadata": {},
   "outputs": [],
   "source": []
  }
 ],
 "metadata": {
  "kernelspec": {
   "display_name": "Python 3",
   "language": "python",
   "name": "python3"
  },
  "language_info": {
   "codemirror_mode": {
    "name": "ipython",
    "version": 3
   },
   "file_extension": ".py",
   "mimetype": "text/x-python",
   "name": "python",
   "nbconvert_exporter": "python",
   "pygments_lexer": "ipython3",
   "version": "3.7.6"
  }
 },
 "nbformat": 4,
 "nbformat_minor": 4
}
