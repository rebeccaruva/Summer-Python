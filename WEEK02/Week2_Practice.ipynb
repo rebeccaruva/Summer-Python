{
 "cells": [
  {
   "cell_type": "markdown",
   "metadata": {},
   "source": [
    "# Practice Exercise"
   ]
  },
  {
   "cell_type": "code",
   "execution_count": 1,
   "metadata": {},
   "outputs": [],
   "source": [
    "# 1) Print the first 10 natural numbers using a loop \n",
    "\n",
    "# Expected output: \n",
    "# 0\n",
    "# 1\n",
    "# 2\n",
    "# 3\n",
    "# 4\n",
    "# 5\n",
    "# 6\n",
    "# 7\n",
    "# 8\n",
    "# 9\n",
    "# 10"
   ]
  },
  {
   "cell_type": "code",
   "execution_count": 6,
   "metadata": {},
   "outputs": [
    {
     "name": "stdout",
     "output_type": "stream",
     "text": [
      "0\n",
      "1\n",
      "2\n",
      "3\n",
      "4\n",
      "5\n",
      "6\n",
      "7\n",
      "8\n",
      "9\n",
      "10\n"
     ]
    }
   ],
   "source": [
    "# prob 1\n",
    "# print first 11 natural numbers\n",
    "\n",
    "# x will be our natural numbers placeholder\n",
    "x = 0\n",
    "\n",
    "# while x (our placeholder) is less than or equal to 10 \n",
    "while x <= 10:\n",
    "    # print x for our natural number and increment x\n",
    "    print(x)\n",
    "    x += 1\n",
    "    "
   ]
  },
  {
   "cell_type": "code",
   "execution_count": 2,
   "metadata": {},
   "outputs": [],
   "source": [
    "# 2) Execute the loop in Question 1 and print the message Done! after \n",
    "\n",
    "# Expected output: \n",
    "# 0\n",
    "# 1\n",
    "# 2\n",
    "# 3\n",
    "# 4\n",
    "# 5\n",
    "# 6\n",
    "# 7\n",
    "# 8\n",
    "# 9\n",
    "# 10\n",
    "# Done! "
   ]
  },
  {
   "cell_type": "code",
   "execution_count": 8,
   "metadata": {},
   "outputs": [
    {
     "name": "stdout",
     "output_type": "stream",
     "text": [
      "0\n",
      "1\n",
      "2\n",
      "3\n",
      "4\n",
      "5\n",
      "6\n",
      "7\n",
      "8\n",
      "9\n",
      "10\n",
      "Done!\n"
     ]
    }
   ],
   "source": [
    "# prob 2\n",
    "# print first 11 natural numbers + Done! at the end\n",
    "\n",
    "# y will be our natural numbers placeholder\n",
    "y = 0\n",
    "\n",
    "# while y (our placeholder) is less than or equal to 10 \n",
    "while y <= 10:\n",
    "    # print y for our natural number and increment y\n",
    "    print(y)\n",
    "    y += 1\n",
    "\n",
    "# after the loop is finished, print Done!\n",
    "print(\"Done!\")"
   ]
  },
  {
   "cell_type": "code",
   "execution_count": 3,
   "metadata": {},
   "outputs": [],
   "source": [
    "# 3) Print the numbers greater than 150 from the list \n",
    "\n",
    "# list = [12, 15, 47, 63, 78, 101, 157, 178, 189]\n",
    "# Expected output: \n",
    "\n",
    "# 157\n",
    "# 178 \n",
    "# 189 "
   ]
  },
  {
   "cell_type": "code",
   "execution_count": 11,
   "metadata": {},
   "outputs": [
    {
     "name": "stdout",
     "output_type": "stream",
     "text": [
      "157\n",
      "178\n",
      "189\n"
     ]
    }
   ],
   "source": [
    "# prob 3\n",
    "# print the nums greater than 150 from list\n",
    "\n",
    "list = [12, 15, 47, 63, 78, 101, 157, 178, 189]\n",
    "\n",
    "# for loop going through each num in list\n",
    "for num in list:\n",
    "    # check if num is greater than 150\n",
    "    if num > 150:\n",
    "        print(num)\n"
   ]
  },
  {
   "cell_type": "code",
   "execution_count": 4,
   "metadata": {},
   "outputs": [],
   "source": [
    "# 4) Print the number that is even and less than 150 \n",
    "\n",
    "# list = [12, 15, 47, 63, 78, 101, 157, 178, 189]\n",
    "# Expected output: \n",
    "\n",
    "# 12\n",
    "# 78\n",
    "\n",
    "#Hint: if you find a number greater than 150, stop the loop with a break"
   ]
  },
  {
   "cell_type": "code",
   "execution_count": 12,
   "metadata": {},
   "outputs": [
    {
     "name": "stdout",
     "output_type": "stream",
     "text": [
      "12\n",
      "78\n"
     ]
    }
   ],
   "source": [
    "# prob 4\n",
    "# print the numbers less than 150 and which are even from the list\n",
    "\n",
    "list = [12, 15, 47, 63, 78, 101, 157, 178, 189]\n",
    "\n",
    "# go through each num in list\n",
    "for num in list:\n",
    "    # first check if num is less than 150\n",
    "    if num < 150:\n",
    "        # then check if num is even (aka has no remainder if divided by 2)\n",
    "        if num % 2 == 0:\n",
    "            print(num)"
   ]
  },
  {
   "cell_type": "code",
   "execution_count": 5,
   "metadata": {},
   "outputs": [],
   "source": [
    "# 5) BONUS \n",
    "\n",
    "# Flip a coin 10 times \n",
    "# Hint: Look into the random library using: \n",
    "# import random "
   ]
  },
  {
   "cell_type": "code",
   "execution_count": 18,
   "metadata": {},
   "outputs": [
    {
     "name": "stdout",
     "output_type": "stream",
     "text": [
      "HEADS\n",
      "TAILS\n",
      "HEADS\n",
      "TAILS\n",
      "HEADS\n",
      "HEADS\n",
      "HEADS\n",
      "HEADS\n",
      "TAILS\n",
      "HEADS\n",
      "You flipped heads  7  times.\n",
      "You flipped tails  3  times.\n"
     ]
    }
   ],
   "source": [
    "# import random so we could get a random int\n",
    "import random\n",
    "\n",
    "# start our totals at 0\n",
    "heads_total = 0\n",
    "tails_total = 0\n",
    "\n",
    "# go though 10 nums\n",
    "for rando in range(10):\n",
    "    # get a random int as either 0 or 1\n",
    "    coin = random.randint(0, 1) # inclusive, inclusive\n",
    "    # if coin is 0\n",
    "    if coin == 0:\n",
    "        # print heads and increase heads total\n",
    "        print(\"HEADS\")\n",
    "        heads_total += 1\n",
    "    # if coin is 1\n",
    "    elif coin == 1:\n",
    "        # print tails and increase tails total\n",
    "        print(\"TAILS\")\n",
    "        tails_total += 1\n",
    "    # else I screwed up somewhere lols\n",
    "    else:\n",
    "        print(\"that was unexpected...\")\n",
    "\n",
    "# print out totals after loop\n",
    "print(\"You flipped heads \", heads_total, \" times.\")\n",
    "print(\"You flipped tails \", tails_total, \" times.\")\n",
    "        "
   ]
  },
  {
   "cell_type": "markdown",
   "metadata": {},
   "source": [
    "# ANSWER KEY"
   ]
  },
  {
   "cell_type": "markdown",
   "metadata": {},
   "source": [
    "#### Remember, there are multiple ways to answer the question, these are some of the ways"
   ]
  },
  {
   "cell_type": "code",
   "execution_count": 6,
   "metadata": {},
   "outputs": [
    {
     "name": "stdout",
     "output_type": "stream",
     "text": [
      "0\n",
      "1\n",
      "2\n",
      "3\n",
      "4\n",
      "5\n",
      "6\n",
      "7\n",
      "8\n",
      "9\n",
      "10\n"
     ]
    }
   ],
   "source": [
    "# Question 1 \n",
    "\n",
    "i = 0\n",
    "while i <= 10:\n",
    "    print(i)\n",
    "    i += 1"
   ]
  },
  {
   "cell_type": "code",
   "execution_count": 7,
   "metadata": {},
   "outputs": [
    {
     "name": "stdout",
     "output_type": "stream",
     "text": [
      "0\n",
      "1\n",
      "2\n",
      "3\n",
      "4\n",
      "5\n",
      "6\n",
      "7\n",
      "8\n",
      "9\n",
      "10\n",
      "Done!\n"
     ]
    }
   ],
   "source": [
    "# Question 2\n",
    "\n",
    "i = 0\n",
    "while i <= 10:\n",
    "    print(i)\n",
    "    i += 1\n",
    "else: \n",
    "    print(\"Done!\")  \n",
    "\n",
    "        "
   ]
  },
  {
   "cell_type": "code",
   "execution_count": 8,
   "metadata": {},
   "outputs": [
    {
     "name": "stdout",
     "output_type": "stream",
     "text": [
      "0\n",
      "1\n",
      "2\n",
      "3\n",
      "4\n",
      "5\n",
      "6\n",
      "7\n",
      "8\n",
      "9\n",
      "10\n",
      "Done!\n"
     ]
    }
   ],
   "source": [
    "# Question 2 (alternative)\n",
    "\n",
    "for i in range (11): #range() is a function \n",
    "    print (i)\n",
    "else: \n",
    "    print(\"Done!\")"
   ]
  },
  {
   "cell_type": "code",
   "execution_count": 9,
   "metadata": {},
   "outputs": [
    {
     "name": "stdout",
     "output_type": "stream",
     "text": [
      "157\n",
      "178\n",
      "189\n"
     ]
    }
   ],
   "source": [
    "# Question 3 \n",
    "\n",
    "list = [12, 15, 47, 63, 78, 101, 157, 178, 189] \n",
    "\n",
    "for item in list: \n",
    "    if (item > 150):\n",
    "        print(item)"
   ]
  },
  {
   "cell_type": "code",
   "execution_count": 9,
   "metadata": {},
   "outputs": [
    {
     "name": "stdout",
     "output_type": "stream",
     "text": [
      "12\n",
      "78\n"
     ]
    }
   ],
   "source": [
    "# Question 4 \n",
    "\n",
    "list = [12, 15, 47, 63, 78, 101, 157, 178, 189] \n",
    "\n",
    "for item in list: \n",
    "    if (item) < 150 and (item % 2 == 0): ## this means the remainder is 0 which indicates its an even number\n",
    "        print(item)"
   ]
  },
  {
   "cell_type": "code",
   "execution_count": 11,
   "metadata": {},
   "outputs": [
    {
     "name": "stdout",
     "output_type": "stream",
     "text": [
      "12\n",
      "78\n"
     ]
    }
   ],
   "source": [
    "# Question 4 (alternative)\n",
    "\n",
    "list = [12, 15, 47, 63, 78, 101, 157, 178, 189] \n",
    "\n",
    "for item in list: \n",
    "    if (item) > 150:  \n",
    "        break\n",
    "    if (item % 2 == 0): ## this means the remainder is 0 which indicates its an even number\n",
    "        print(item)"
   ]
  },
  {
   "cell_type": "markdown",
   "metadata": {},
   "source": [
    "### Flipping a coin 10 times! "
   ]
  },
  {
   "cell_type": "code",
   "execution_count": 11,
   "metadata": {},
   "outputs": [
    {
     "name": "stdout",
     "output_type": "stream",
     "text": [
      "Heads!\n",
      "\n",
      "Heads!\n",
      "\n",
      "Tails!\n",
      "\n",
      "Tails!\n",
      "\n",
      "Tails!\n",
      "\n",
      "Tails!\n",
      "\n",
      "Heads!\n",
      "\n",
      "Tails!\n",
      "\n",
      "Heads!\n",
      "\n",
      "Heads!\n",
      "\n",
      "\n",
      "Okay, you flipped heads 5 times \n",
      "\n",
      "and you flipped tails 5 times \n"
     ]
    }
   ],
   "source": [
    "import random\n",
    "\n",
    "total_heads = 0\n",
    "total_tails = 0\n",
    "count = 0\n",
    "\n",
    "\n",
    "while count < 10:\n",
    "\n",
    "    coin = random.randint(1, 2)\n",
    "\n",
    "    if coin == 1:\n",
    "        print(\"Heads!\\n\") # \\n means new line \n",
    "        total_heads += 1\n",
    "        count += 1\n",
    "\n",
    "    elif coin == 2:\n",
    "        print(\"Tails!\\n\")\n",
    "        total_tails += 1\n",
    "        count += 1\n",
    "\n",
    "print(\"\\nOkay, you flipped heads\", total_heads, \"times \")\n",
    "print(\"\\nand you flipped tails\", total_tails, \"times \")"
   ]
  },
  {
   "cell_type": "code",
   "execution_count": null,
   "metadata": {},
   "outputs": [],
   "source": []
  }
 ],
 "metadata": {
  "kernelspec": {
   "display_name": "Python 3",
   "language": "python",
   "name": "python3"
  },
  "language_info": {
   "codemirror_mode": {
    "name": "ipython",
    "version": 3
   },
   "file_extension": ".py",
   "mimetype": "text/x-python",
   "name": "python",
   "nbconvert_exporter": "python",
   "pygments_lexer": "ipython3",
   "version": "3.7.6"
  }
 },
 "nbformat": 4,
 "nbformat_minor": 4
}
