{
 "cells": [
  {
   "cell_type": "markdown",
   "metadata": {},
   "source": [
    "## Madlibs Invitation Generator"
   ]
  },
  {
   "cell_type": "code",
   "execution_count": 15,
   "metadata": {},
   "outputs": [],
   "source": [
    "def invite(_guest_, _event_, _date_, _location_, _items_):\n",
    "    \"\"\"fill invitation template for madlibs event\"\"\"\n",
    "    \n",
    "    # formats all outputs form a list as 'a, b, and c'\n",
    "    def getAll(li):\n",
    "        return ', '.join(li[:-1]) + \", and %s\" %(li[-1])\n",
    "    \n",
    "    template = '''\n",
    "    Hey, %s!\n",
    "    You are invited to %s! Join us on %s at %s!\n",
    "    Bring %s.\n",
    "    \n",
    "    Best,\n",
    "    bexthehexx\n",
    "    '''\n",
    "    \n",
    "    print(template % (_guest_, _event_, _date_, _location_, getAll(_items_)))\n",
    "    \n",
    "    print(\"-----\")\n",
    "    "
   ]
  },
  {
   "cell_type": "code",
   "execution_count": 16,
   "metadata": {},
   "outputs": [
    {
     "name": "stdout",
     "output_type": "stream",
     "text": [
      "\n",
      "    Hey, Carol!\n",
      "    You are invited to Madlibs Pub Night! Join us on June 21st at Union Square!\n",
      "    Bring money, water, pencil, and paper.\n",
      "    \n",
      "    Best,\n",
      "    bexthehexx\n",
      "    \n",
      "-----\n",
      "\n",
      "    Hey, Lionel!\n",
      "    You are invited to Madlibs Pub Night! Join us on June 21st at Union Square!\n",
      "    Bring money, water, pencil, and paper.\n",
      "    \n",
      "    Best,\n",
      "    bexthehexx\n",
      "    \n",
      "-----\n",
      "\n",
      "    Hey, Cat!\n",
      "    You are invited to Madlibs Pub Night! Join us on June 21st at Union Square!\n",
      "    Bring money, water, pencil, and paper.\n",
      "    \n",
      "    Best,\n",
      "    bexthehexx\n",
      "    \n",
      "-----\n",
      "\n",
      "    Hey, Cecile!\n",
      "    You are invited to Madlibs Pub Night! Join us on June 21st at Union Square!\n",
      "    Bring money, water, pencil, and paper.\n",
      "    \n",
      "    Best,\n",
      "    bexthehexx\n",
      "    \n",
      "-----\n",
      "\n",
      "    Hey, Juan!\n",
      "    You are invited to Madlibs Pub Night! Join us on June 21st at Union Square!\n",
      "    Bring money, water, pencil, and paper.\n",
      "    \n",
      "    Best,\n",
      "    bexthehexx\n",
      "    \n",
      "-----\n",
      "\n",
      "    Hey, Maria!\n",
      "    You are invited to Madlibs Pub Night! Join us on June 21st at Union Square!\n",
      "    Bring money, water, pencil, and paper.\n",
      "    \n",
      "    Best,\n",
      "    bexthehexx\n",
      "    \n",
      "-----\n"
     ]
    }
   ],
   "source": [
    "guestlist = [\"Carol\", \"Lionel\", \"Cat\", \"Cecile\", \"Juan\", \"Maria\"]\n",
    "event = \"Madlibs Pub Night\"\n",
    "date = \"June 21st\"\n",
    "location = \"Union Square\"\n",
    "items = [\"money\", \"water\", \"pencil\", \"paper\"]\n",
    "\n",
    "for guest in guestlist:\n",
    "    invite(guest, event, date, location, items)"
   ]
  }
 ],
 "metadata": {
  "kernelspec": {
   "display_name": "Python 3",
   "language": "python",
   "name": "python3"
  },
  "language_info": {
   "codemirror_mode": {
    "name": "ipython",
    "version": 3
   },
   "file_extension": ".py",
   "mimetype": "text/x-python",
   "name": "python",
   "nbconvert_exporter": "python",
   "pygments_lexer": "ipython3",
   "version": "3.7.4"
  }
 },
 "nbformat": 4,
 "nbformat_minor": 4
}