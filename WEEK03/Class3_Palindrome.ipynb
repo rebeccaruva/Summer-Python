{
 "cells": [
  {
   "cell_type": "markdown",
   "metadata": {},
   "source": [
    "# Palindrome"
   ]
  },
  {
   "cell_type": "markdown",
   "metadata": {},
   "source": [
    "note: disregard spaces and capitalized letters"
   ]
  },
  {
   "cell_type": "code",
   "execution_count": 21,
   "metadata": {},
   "outputs": [],
   "source": [
    "# define our palindrome function\n",
    "# take in an argument, txt\n",
    "def isPalindrome(txt):\n",
    "    \"\"\"\n",
    "    checks whether a string is a palindrome or not.\n",
    "    \n",
    "    Arguments:\n",
    "        txt (string): the phrase we will test\n",
    "    \"\"\"\n",
    "    # make everything lowercase\n",
    "    txt = txt.lower()\n",
    "    \n",
    "    # get ride of any white spaces\n",
    "    # replace white space with empty string\n",
    "    txt = txt.replace(' ', '')\n",
    "    \n",
    "    # get rid of question marks\n",
    "    # replace question marks with empty string\n",
    "    txt = txt.replace('?', '')\n",
    "    \n",
    "    # how is the txt spelled forwards\n",
    "    forwards = txt\n",
    "    print(\"Forwards spelling: \", forwards)\n",
    "    \n",
    "    # how is the txt spelled backwards\n",
    "    backwards = txt[::-1]\n",
    "    print(\"Backwards spelling: \", backwards)\n",
    "    \n",
    "    # if the forward spelling the same as the backwards spelling\n",
    "    # then it's a palindrome, print true\n",
    "    # else it's not, print false\n",
    "    if forwards == backwards:\n",
    "        print(True, \" this is a palindrome\");\n",
    "    else:\n",
    "        print(False, \" this is NOT a palindrome!\");   \n",
    "    print(\"----\")"
   ]
  },
  {
   "cell_type": "code",
   "execution_count": 23,
   "metadata": {},
   "outputs": [
    {
     "name": "stdout",
     "output_type": "stream",
     "text": [
      "Forwards spelling:  wow\n",
      "Backwards spelling:  wow\n",
      "True  this is a palindrome\n",
      "----\n",
      "Forwards spelling:  anna\n",
      "Backwards spelling:  anna\n",
      "True  this is a palindrome\n",
      "----\n",
      "Forwards spelling:  12a3a21\n",
      "Backwards spelling:  12a3a21\n",
      "True  this is a palindrome\n",
      "----\n",
      "Forwards spelling:  racecar\n",
      "Backwards spelling:  racecar\n",
      "True  this is a palindrome\n",
      "----\n",
      "Forwards spelling:  wasitacatisaw\n",
      "Backwards spelling:  wasitacatisaw\n",
      "True  this is a palindrome\n",
      "----\n"
     ]
    }
   ],
   "source": [
    "isPalindrome(\"wow\")\n",
    "isPalindrome(\"Anna\")\n",
    "isPalindrome(\"12a3a21\")\n",
    "isPalindrome(\"race car\")\n",
    "isPalindrome(\"Was it a cat I saw?\")"
   ]
  },
  {
   "cell_type": "code",
   "execution_count": 24,
   "metadata": {},
   "outputs": [
    {
     "name": "stdout",
     "output_type": "stream",
     "text": [
      "Forwards spelling:  wowza\n",
      "Backwards spelling:  azwow\n",
      "False  this is NOT a palindrome!\n",
      "----\n",
      "Forwards spelling:  123a21\n",
      "Backwards spelling:  12a321\n",
      "False  this is NOT a palindrome!\n",
      "----\n",
      "Forwards spelling:  <3mom<3\n",
      "Backwards spelling:  3<mom3<\n",
      "False  this is NOT a palindrome!\n",
      "----\n"
     ]
    }
   ],
   "source": [
    "isPalindrome(\"wowza\")\n",
    "isPalindrome(\"123a21\")\n",
    "isPalindrome(\"<3 mom <3\")"
   ]
  }
 ],
 "metadata": {
  "kernelspec": {
   "display_name": "Python 3",
   "language": "python",
   "name": "python3"
  },
  "language_info": {
   "codemirror_mode": {
    "name": "ipython",
    "version": 3
   },
   "file_extension": ".py",
   "mimetype": "text/x-python",
   "name": "python",
   "nbconvert_exporter": "python",
   "pygments_lexer": "ipython3",
   "version": "3.7.4"
  }
 },
 "nbformat": 4,
 "nbformat_minor": 4
}
