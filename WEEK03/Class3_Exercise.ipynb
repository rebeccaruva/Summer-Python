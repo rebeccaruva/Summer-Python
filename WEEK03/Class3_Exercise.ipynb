{
 "cells": [
  {
   "cell_type": "markdown",
   "metadata": {},
   "source": [
    "# Class 3\n",
    "\n",
    "## double vs single quotation marks"
   ]
  },
  {
   "cell_type": "code",
   "execution_count": 1,
   "metadata": {},
   "outputs": [
    {
     "name": "stdout",
     "output_type": "stream",
     "text": [
      "hello\n"
     ]
    }
   ],
   "source": [
    "print(\"hello\")"
   ]
  },
  {
   "cell_type": "code",
   "execution_count": 2,
   "metadata": {},
   "outputs": [
    {
     "name": "stdout",
     "output_type": "stream",
     "text": [
      "hello\n"
     ]
    }
   ],
   "source": [
    "print('hello')"
   ]
  },
  {
   "cell_type": "code",
   "execution_count": 6,
   "metadata": {},
   "outputs": [
    {
     "name": "stdout",
     "output_type": "stream",
     "text": [
      "she was like 'wow'\n"
     ]
    }
   ],
   "source": [
    "#She was like 'wow'\n",
    "\n",
    "print(\"she was like 'wow'\")"
   ]
  },
  {
   "cell_type": "code",
   "execution_count": 7,
   "metadata": {},
   "outputs": [
    {
     "name": "stdout",
     "output_type": "stream",
     "text": [
      "she was like \"wow\"\n"
     ]
    }
   ],
   "source": [
    "#She was like \"wow!\"\n",
    "\n",
    "print('she was like \"wow\"')"
   ]
  },
  {
   "cell_type": "code",
   "execution_count": 8,
   "metadata": {},
   "outputs": [
    {
     "name": "stdout",
     "output_type": "stream",
     "text": [
      "She was like don't say that\n"
     ]
    }
   ],
   "source": [
    "# \\ can be used as an escape character\n",
    "# if placed before character to escape\n",
    "\n",
    "print('She was like don\\'t say that')"
   ]
  },
  {
   "cell_type": "markdown",
   "metadata": {},
   "source": [
    "## strings"
   ]
  },
  {
   "cell_type": "code",
   "execution_count": 10,
   "metadata": {},
   "outputs": [
    {
     "name": "stdout",
     "output_type": "stream",
     "text": [
      "bex\n"
     ]
    }
   ],
   "source": [
    "name = \"bex\"\n",
    "print(name)"
   ]
  },
  {
   "cell_type": "code",
   "execution_count": 13,
   "metadata": {},
   "outputs": [
    {
     "name": "stdout",
     "output_type": "stream",
     "text": [
      "BEX\n"
     ]
    }
   ],
   "source": [
    "print(name.upper())\n",
    "\n",
    "# name is object\n",
    "# .upper() is a method"
   ]
  },
  {
   "cell_type": "code",
   "execution_count": 12,
   "metadata": {},
   "outputs": [
    {
     "name": "stdout",
     "output_type": "stream",
     "text": [
      "bex\n"
     ]
    }
   ],
   "source": [
    "print(name)"
   ]
  },
  {
   "cell_type": "markdown",
   "metadata": {},
   "source": [
    "## functions"
   ]
  },
  {
   "cell_type": "code",
   "execution_count": 14,
   "metadata": {},
   "outputs": [],
   "source": [
    "# define a function\n",
    "def twinsGreet():\n",
    "    \"\"\"Two greetings from the twins\"\"\" #this is a docstring that says what the function does\n",
    "    \n",
    "    # code goes here\n",
    "    print(\"hi\")\n",
    "    print(\"yeah hi\")\n",
    "    "
   ]
  },
  {
   "cell_type": "code",
   "execution_count": 16,
   "metadata": {},
   "outputs": [
    {
     "name": "stdout",
     "output_type": "stream",
     "text": [
      "hi\n",
      "yeah hi\n"
     ]
    }
   ],
   "source": [
    "twinsGreet()\n",
    "# here I call the function"
   ]
  },
  {
   "cell_type": "markdown",
   "metadata": {},
   "source": [
    "## lists"
   ]
  },
  {
   "cell_type": "markdown",
   "metadata": {},
   "source": [
    "you can modify lists"
   ]
  },
  {
   "cell_type": "code",
   "execution_count": 17,
   "metadata": {},
   "outputs": [
    {
     "name": "stdout",
     "output_type": "stream",
     "text": [
      "['Grace', 'Mia', 'Mooer']\n"
     ]
    }
   ],
   "source": [
    "cows = [\"Grace\", \"Mia\", \"Mooer\"]\n",
    "print(cows)"
   ]
  },
  {
   "cell_type": "code",
   "execution_count": 19,
   "metadata": {},
   "outputs": [
    {
     "name": "stdout",
     "output_type": "stream",
     "text": [
      "[]\n"
     ]
    }
   ],
   "source": [
    "#empty list\n",
    "empty = []\n",
    "print(empty)"
   ]
  },
  {
   "cell_type": "code",
   "execution_count": 40,
   "metadata": {},
   "outputs": [
    {
     "name": "stdout",
     "output_type": "stream",
     "text": [
      "['hehe', 20, 'a']\n"
     ]
    }
   ],
   "source": [
    "#list with mixed data types\n",
    "hehe = [\"hehe\", 20, 'a']\n",
    "print(hehe)"
   ]
  },
  {
   "cell_type": "code",
   "execution_count": 32,
   "metadata": {},
   "outputs": [
    {
     "name": "stdout",
     "output_type": "stream",
     "text": [
      "[1, [2, 4], 3]\n"
     ]
    }
   ],
   "source": [
    "# nested list in list\n",
    "nest = [1, [2, 4], 3]\n",
    "print(nest)"
   ]
  },
  {
   "cell_type": "code",
   "execution_count": 36,
   "metadata": {},
   "outputs": [
    {
     "name": "stdout",
     "output_type": "stream",
     "text": [
      "2\n"
     ]
    }
   ],
   "source": [
    "# index of it in list\n",
    "three = nest.index(3)\n",
    "print(three)"
   ]
  },
  {
   "cell_type": "code",
   "execution_count": 42,
   "metadata": {},
   "outputs": [
    {
     "name": "stdout",
     "output_type": "stream",
     "text": [
      "1\n"
     ]
    }
   ],
   "source": [
    "# num of times it appears in list\n",
    "hehe_count = hehe.count('a')\n",
    "print(hehe_count)"
   ]
  },
  {
   "cell_type": "code",
   "execution_count": 53,
   "metadata": {},
   "outputs": [
    {
     "name": "stdout",
     "output_type": "stream",
     "text": [
      "['hello', 'howdy', 'hey', 'hi']\n",
      "['hello', 'howdy', 'hey']\n",
      "['howdy', 'hey']\n",
      "['howdy', 'whatup', 'hey']\n",
      "['hey', 'howdy', 'whatup']\n",
      "['whatup', 'howdy', 'hey']\n"
     ]
    }
   ],
   "source": [
    "my_list = ['hello', 'howdy', 'hey']\n",
    "\n",
    "# append a new element to itself\n",
    "my_list.append('hi')\n",
    "print(my_list)\n",
    "\n",
    "# remove an existing element by value\n",
    "my_list.remove('hi')\n",
    "print(my_list)\n",
    "\n",
    "# remove an existing element by index\n",
    "my_list.pop(0)\n",
    "print(my_list)\n",
    "\n",
    "# insert new element at index 1 \n",
    "my_list.insert(1,'whatup')\n",
    "print(my_list)\n",
    "\n",
    "# sort elements alphabetically\n",
    "my_list.sort()\n",
    "print(my_list)\n",
    "\n",
    "# reverse the order of the list\n",
    "my_list.reverse()\n",
    "print(my_list)"
   ]
  },
  {
   "cell_type": "code",
   "execution_count": 61,
   "metadata": {},
   "outputs": [
    {
     "name": "stdout",
     "output_type": "stream",
     "text": [
      "['whatup']\n",
      "['howdy', 'hey']\n"
     ]
    }
   ],
   "source": [
    "print(my_list[0:1])\n",
    "print(my_list[1:3])"
   ]
  },
  {
   "cell_type": "code",
   "execution_count": null,
   "metadata": {},
   "outputs": [],
   "source": [
    "flower = \"my flower is fun! more fun than you!\"\n"
   ]
  },
  {
   "cell_type": "markdown",
   "metadata": {},
   "source": [
    "## tuples"
   ]
  },
  {
   "cell_type": "markdown",
   "metadata": {},
   "source": [
    "you canNOT modify tuples, they are set"
   ]
  },
  {
   "cell_type": "code",
   "execution_count": 43,
   "metadata": {},
   "outputs": [
    {
     "name": "stdout",
     "output_type": "stream",
     "text": [
      "('George', 'Alex', 'Lile')\n"
     ]
    }
   ],
   "source": [
    "bulls = (\"George\", \"Alex\", \"Lile\")\n",
    "print(bulls)"
   ]
  },
  {
   "cell_type": "code",
   "execution_count": 24,
   "metadata": {},
   "outputs": [
    {
     "name": "stdout",
     "output_type": "stream",
     "text": [
      "()\n"
     ]
    }
   ],
   "source": [
    "# empty tuple\n",
    "emptyT = ()\n",
    "print(emptyT)"
   ]
  },
  {
   "cell_type": "code",
   "execution_count": 45,
   "metadata": {},
   "outputs": [
    {
     "name": "stdout",
     "output_type": "stream",
     "text": [
      "(1,)\n"
     ]
    }
   ],
   "source": [
    "# tuple with one element\n",
    "hello = (1,)\n",
    "print(hello)"
   ]
  },
  {
   "cell_type": "code",
   "execution_count": 44,
   "metadata": {},
   "outputs": [
    {
     "name": "stdout",
     "output_type": "stream",
     "text": [
      "0\n"
     ]
    }
   ],
   "source": [
    "bull_count = bulls.count(\"Lilie\")\n",
    "print(bull_count)"
   ]
  },
  {
   "cell_type": "code",
   "execution_count": 46,
   "metadata": {},
   "outputs": [
    {
     "name": "stdout",
     "output_type": "stream",
     "text": [
      "0\n"
     ]
    }
   ],
   "source": [
    "one = hello.index(1)\n",
    "print(one)"
   ]
  }
 ],
 "metadata": {
  "kernelspec": {
   "display_name": "Python 3",
   "language": "python",
   "name": "python3"
  },
  "language_info": {
   "codemirror_mode": {
    "name": "ipython",
    "version": 3
   },
   "file_extension": ".py",
   "mimetype": "text/x-python",
   "name": "python",
   "nbconvert_exporter": "python",
   "pygments_lexer": "ipython3",
   "version": "3.7.4"
  }
 },
 "nbformat": 4,
 "nbformat_minor": 4
}